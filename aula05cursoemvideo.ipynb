{
 "cells": [
  {
   "cell_type": "code",
   "execution_count": 5,
   "metadata": {},
   "outputs": [
    {
     "name": "stdout",
     "output_type": "stream",
     "text": [
      "Olá Ian, prazer em te conhecer!\n"
     ]
    }
   ],
   "source": [
    "frase1 = 'Olá '\n",
    "frase2 = ', prazer em te conhecer!'\n",
    "nome = input('Qual o seu nome?')\n",
    "\n",
    "print(frase1 + nome + frase2)"
   ]
  },
  {
   "cell_type": "code",
   "execution_count": 8,
   "metadata": {},
   "outputs": [
    {
     "name": "stdout",
     "output_type": "stream",
     "text": [
      "Você nasceu em: 20/12/1999, Correto?\n"
     ]
    }
   ],
   "source": [
    "dia = input('Qual dia do seu nascimento?')\n",
    "mes = input('Qual mês do seu nascimento?')\n",
    "ano = input('Qual ano do seu nascimento?')\n",
    "\n",
    "print('Você nasceu em: ' + dia + '/' + mes + '/' + ano + ', Correto?')"
   ]
  },
  {
   "cell_type": "code",
   "execution_count": 1,
   "metadata": {},
   "outputs": [
    {
     "name": "stdout",
     "output_type": "stream",
     "text": [
      "A soma é: 30\n"
     ]
    }
   ],
   "source": [
    "n1 = input('Primeiro número:')\n",
    "n2 = input('Segundo número:')\n",
    "n1 = int(n1)\n",
    "n2 = int(n2)\n",
    "\n",
    "resultado = n1 + n2\n",
    "\n",
    "print('A soma é: ' + str(resultado))"
   ]
  }
 ],
 "metadata": {
  "kernelspec": {
   "display_name": "Python 3",
   "language": "python",
   "name": "python3"
  },
  "language_info": {
   "codemirror_mode": {
    "name": "ipython",
    "version": 3
   },
   "file_extension": ".py",
   "mimetype": "text/x-python",
   "name": "python",
   "nbconvert_exporter": "python",
   "pygments_lexer": "ipython3",
   "version": "3.12.2"
  }
 },
 "nbformat": 4,
 "nbformat_minor": 2
}
