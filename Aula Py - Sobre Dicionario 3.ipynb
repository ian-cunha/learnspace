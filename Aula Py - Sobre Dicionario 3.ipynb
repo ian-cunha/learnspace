{
 "cells": [
  {
   "cell_type": "code",
   "execution_count": 3,
   "metadata": {},
   "outputs": [],
   "source": [
    "usuario = {\n",
    "    'nome': 'Ian',\n",
    "    'idade': 24,\n",
    "    'profissao': 'Dev',\n",
    "    'interesses': ['Python', 'JavaScript', 'SQL', 'Jupyter Notebook'],\n",
    "    'pet': {\n",
    "        'nome': 'Ravena',\n",
    "        'idade': 0.3,\n",
    "        'peso': '1kg'\n",
    "    }\n",
    "}"
   ]
  },
  {
   "cell_type": "code",
   "execution_count": 4,
   "metadata": {},
   "outputs": [
    {
     "data": {
      "text/plain": [
       "{'nome': 'Ian',\n",
       " 'idade': 24,\n",
       " 'profissao': 'Dev',\n",
       " 'interesses': ['Python', 'JavaScript', 'SQL', 'Jupyter Notebook'],\n",
       " 'pet': {'nome': 'Ravena', 'idade': 0.3, 'peso': '1kg'}}"
      ]
     },
     "execution_count": 4,
     "metadata": {},
     "output_type": "execute_result"
    }
   ],
   "source": [
    "usuario"
   ]
  },
  {
   "cell_type": "code",
   "execution_count": 6,
   "metadata": {},
   "outputs": [],
   "source": [
    "usuario['ano_nascimento'] = 1999"
   ]
  },
  {
   "cell_type": "code",
   "execution_count": 7,
   "metadata": {},
   "outputs": [
    {
     "data": {
      "text/plain": [
       "{'nome': 'Ian',\n",
       " 'idade': 24,\n",
       " 'profissao': 'Dev',\n",
       " 'interesses': ['Python', 'JavaScript', 'SQL', 'Jupyter Notebook'],\n",
       " 'pet': {'nome': 'Ravena', 'idade': 0.3, 'peso': '1kg'},\n",
       " 'ano_nascimento': 1999}"
      ]
     },
     "execution_count": 7,
     "metadata": {},
     "output_type": "execute_result"
    }
   ],
   "source": [
    "usuario"
   ]
  },
  {
   "cell_type": "code",
   "execution_count": 8,
   "metadata": {},
   "outputs": [],
   "source": [
    "usuario['cores_favoritas'] = ['Branco', 'Azul', 'Preto']"
   ]
  },
  {
   "cell_type": "code",
   "execution_count": 9,
   "metadata": {},
   "outputs": [
    {
     "data": {
      "text/plain": [
       "{'nome': 'Ian',\n",
       " 'idade': 24,\n",
       " 'profissao': 'Dev',\n",
       " 'interesses': ['Python', 'JavaScript', 'SQL', 'Jupyter Notebook'],\n",
       " 'pet': {'nome': 'Ravena', 'idade': 0.3, 'peso': '1kg'},\n",
       " 'ano_nascimento': 1999,\n",
       " 'cores_favoritas': ['Branco', 'Azul', 'Preto']}"
      ]
     },
     "execution_count": 9,
     "metadata": {},
     "output_type": "execute_result"
    }
   ],
   "source": [
    "usuario"
   ]
  },
  {
   "cell_type": "code",
   "execution_count": 10,
   "metadata": {},
   "outputs": [],
   "source": [
    "usuario['mae'] = {\n",
    "    'nome': 'Cris',\n",
    "    'idade': 48\n",
    "}"
   ]
  },
  {
   "cell_type": "code",
   "execution_count": 11,
   "metadata": {},
   "outputs": [
    {
     "data": {
      "text/plain": [
       "{'nome': 'Ian',\n",
       " 'idade': 24,\n",
       " 'profissao': 'Dev',\n",
       " 'interesses': ['Python', 'JavaScript', 'SQL', 'Jupyter Notebook'],\n",
       " 'pet': {'nome': 'Ravena', 'idade': 0.3, 'peso': '1kg'},\n",
       " 'ano_nascimento': 1999,\n",
       " 'cores_favoritas': ['Branco', 'Azul', 'Preto'],\n",
       " 'mae': {'nome': 'Cris', 'idade': 48}}"
      ]
     },
     "execution_count": 11,
     "metadata": {},
     "output_type": "execute_result"
    }
   ],
   "source": [
    "usuario"
   ]
  }
 ],
 "metadata": {
  "kernelspec": {
   "display_name": "Python 3",
   "language": "python",
   "name": "python3"
  },
  "language_info": {
   "codemirror_mode": {
    "name": "ipython",
    "version": 3
   },
   "file_extension": ".py",
   "mimetype": "text/x-python",
   "name": "python",
   "nbconvert_exporter": "python",
   "pygments_lexer": "ipython3",
   "version": "3.12.1"
  }
 },
 "nbformat": 4,
 "nbformat_minor": 2
}
