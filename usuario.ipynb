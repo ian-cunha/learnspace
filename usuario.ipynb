{
 "cells": [
  {
   "cell_type": "code",
   "execution_count": 9,
   "metadata": {},
   "outputs": [],
   "source": [
    "usuario = {\n",
    "    'nome': 'Ian Cunha',\n",
    "    'idade': 24,\n",
    "    'profissao': 'Dev',\n",
    "    'interesses': [\n",
    "        'Python',\n",
    "        'JavaScript', \n",
    "        'SQL'\n",
    "        ],\n",
    "    'idiomas': [\n",
    "        'Inglês Intermediário', \n",
    "        'Português Fluente'\n",
    "        ],\n",
    "    'genero': 'Masculino',\n",
    "    'redes_sociais': {\n",
    "        'linkedin':'',\n",
    "        'instagram': '',\n",
    "        'twitter': '',\n",
    "        },\n",
    "    'portifolio_link': '',\n",
    "}"
   ]
  },
  {
   "cell_type": "code",
   "execution_count": 10,
   "metadata": {},
   "outputs": [
    {
     "data": {
      "text/plain": [
       "{'nome': 'Ian Cunha',\n",
       " 'idade': 24,\n",
       " 'profissao': 'Dev',\n",
       " 'interesses': ['Python', 'JavaScript', 'SQL'],\n",
       " 'idiomas': ['Inglês Intermediário', 'Português Fluente'],\n",
       " 'genero': 'Masculino',\n",
       " 'redes_sociais': {'linkedin': '', 'instagram': '', 'twitter': ''},\n",
       " 'portifolio_link': ''}"
      ]
     },
     "execution_count": 10,
     "metadata": {},
     "output_type": "execute_result"
    }
   ],
   "source": [
    "usuario"
   ]
  }
 ],
 "metadata": {
  "kernelspec": {
   "display_name": "Python 3",
   "language": "python",
   "name": "python3"
  },
  "language_info": {
   "codemirror_mode": {
    "name": "ipython",
    "version": 3
   },
   "file_extension": ".py",
   "mimetype": "text/x-python",
   "name": "python",
   "nbconvert_exporter": "python",
   "pygments_lexer": "ipython3",
   "version": "3.12.1"
  }
 },
 "nbformat": 4,
 "nbformat_minor": 2
}
