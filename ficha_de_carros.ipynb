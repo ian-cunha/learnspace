{
 "cells": [
  {
   "cell_type": "code",
   "execution_count": 9,
   "metadata": {},
   "outputs": [],
   "source": [
    "carro_01 = {\n",
    "    'nome': 'Lamborghini 350 GT',\n",
    "    'ano': 1964,\n",
    "    'velocidade_maxima': '240 Km/h',\n",
    "    'potencia_total': '198 kW',\n",
    "    '0-100': 6.8,\n",
    "    'torque_total': '309 N-m',\n",
    "    'peso_potencia': '6,3 kg/kW',\n",
    "    'configuracao': 'V12',\n",
    "    'capacidade_de_combustivel': 80,\n",
    "    'cavalos': 78,\n",
    "    'combustivel': 'Gasolina',\n",
    "    'aspirado': 'Natural',\n",
    "    'economia': {\n",
    "        'medio': '18l/100km',\n",
    "        'alcance_total': '444 Km'\n",
    "    },\n",
    "    'dimensoes': {\n",
    "        'largura': 1.730,\n",
    "        'comprimento': 4.460,\n",
    "        'altura': 1.230,\n",
    "        'via_dianteira': 1.380,\n",
    "        'via_traseira': 1.380,\n",
    "    },\n",
    "    'trasao_chassi': {\n",
    "        'rodas_acionadas': 'RWD',\n",
    "        'suspensao_traseira': 'Duplo A',\n",
    "        'engrenagens': 5,\n",
    "        'cilindaradas_unitaria': '289 cm³',\n",
    "        'diamentro_x_curso': '77 x 62 mm',\n",
    "        'diamentro-curso': '1,24:1',\n",
    "        'PME': '11,2 Bar',\n",
    "        'potencia_especifica': '78 cv/L'\n",
    "    }\n",
    "}"
   ]
  },
  {
   "cell_type": "code",
   "execution_count": 10,
   "metadata": {},
   "outputs": [
    {
     "data": {
      "text/plain": [
       "{'nome': 'Lamborghini 350 GT',\n",
       " 'ano': 1964,\n",
       " 'velocidade_maxima': '240 Km/h',\n",
       " 'potencia_total': '198 kW',\n",
       " '0-100': 6.8,\n",
       " 'torque_total': '309 N-m',\n",
       " 'peso_potencia': '6,3 kg/kW',\n",
       " 'configuracao': 'V12',\n",
       " 'capacidade_de_combustivel': 80,\n",
       " 'cavalos': 78,\n",
       " 'combustivel': 'Gasolina',\n",
       " 'aspirado': 'Natural',\n",
       " 'economia': {'medio': '18l/100km', 'alcance_total': '444 Km'},\n",
       " 'dimensoes': {'largura': 1.73,\n",
       "  'comprimento': 4.46,\n",
       "  'altura': 1.23,\n",
       "  'via_dianteira': 1.38,\n",
       "  'via_traseira': 1.38},\n",
       " 'trasao_chassi': {'rodas_acionadas': 'RWD',\n",
       "  'suspensao_traseira': 'Duplo A',\n",
       "  'engrenagens': 5,\n",
       "  'cilindaradas_unitaria': '289 cm³',\n",
       "  'diamentro_x_curso': '77 x 62 mm',\n",
       "  'diamentro-curso': '1,24:1',\n",
       "  'PME': '11,2 Bar',\n",
       "  'potencia_especifica': '78 cv/L'}}"
      ]
     },
     "execution_count": 10,
     "metadata": {},
     "output_type": "execute_result"
    }
   ],
   "source": [
    "carro_01"
   ]
  },
  {
   "cell_type": "code",
   "execution_count": 15,
   "metadata": {},
   "outputs": [
    {
     "data": {
      "text/plain": [
       "{'largura': 1.73,\n",
       " 'comprimento': 4.46,\n",
       " 'altura': 1.23,\n",
       " 'via_dianteira': 1.38,\n",
       " 'via_traseira': 1.38}"
      ]
     },
     "execution_count": 15,
     "metadata": {},
     "output_type": "execute_result"
    }
   ],
   "source": [
    "carro_01.get('dimensoes')"
   ]
  },
  {
   "cell_type": "code",
   "execution_count": 16,
   "metadata": {},
   "outputs": [
    {
     "data": {
      "text/plain": [
       "'18l/100km'"
      ]
     },
     "execution_count": 16,
     "metadata": {},
     "output_type": "execute_result"
    }
   ],
   "source": [
    "carro_01.get('economia')['medio']"
   ]
  },
  {
   "cell_type": "code",
   "execution_count": 17,
   "metadata": {},
   "outputs": [
    {
     "data": {
      "text/plain": [
       "'444 Km'"
      ]
     },
     "execution_count": 17,
     "metadata": {},
     "output_type": "execute_result"
    }
   ],
   "source": [
    "carro_01.get('economia').get('alcance_total')"
   ]
  },
  {
   "cell_type": "code",
   "execution_count": 28,
   "metadata": {},
   "outputs": [
    {
     "data": {
      "text/plain": [
       "78"
      ]
     },
     "execution_count": 28,
     "metadata": {},
     "output_type": "execute_result"
    }
   ],
   "source": [
    "carro_01['cavalos']"
   ]
  },
  {
   "cell_type": "code",
   "execution_count": 29,
   "metadata": {},
   "outputs": [
    {
     "data": {
      "text/plain": [
       "{'nome': 'Lamborghini 350 GT',\n",
       " 'ano': 1964,\n",
       " 'velocidade_maxima': '240 Km/h',\n",
       " 'potencia_total': '198 kW',\n",
       " '0-100': 6.8,\n",
       " 'torque_total': '309 N-m',\n",
       " 'peso_potencia': '6,3 kg/kW',\n",
       " 'configuracao': 'V12',\n",
       " 'capacidade_de_combustivel': 80,\n",
       " 'cavalos': 78,\n",
       " 'combustivel': 'Gasolina',\n",
       " 'aspirado': 'Natural',\n",
       " 'economia': {'medio': '18l/100km', 'alcance_total': '444 Km'},\n",
       " 'dimensoes': {'largura': 1.73,\n",
       "  'comprimento': 4.46,\n",
       "  'altura': 1.23,\n",
       "  'via_dianteira': 1.38,\n",
       "  'via_traseira': 1.38},\n",
       " 'trasao_chassi': {'rodas_acionadas': 'RWD',\n",
       "  'suspensao_traseira': 'Duplo A',\n",
       "  'engrenagens': 5,\n",
       "  'cilindaradas_unitaria': '289 cm³',\n",
       "  'diamentro_x_curso': '77 x 62 mm',\n",
       "  'diamentro-curso': '1,24:1',\n",
       "  'PME': '11,2 Bar',\n",
       "  'potencia_especifica': '78 cv/L'}}"
      ]
     },
     "execution_count": 29,
     "metadata": {},
     "output_type": "execute_result"
    }
   ],
   "source": [
    "carro_01"
   ]
  },
  {
   "cell_type": "code",
   "execution_count": 30,
   "metadata": {},
   "outputs": [
    {
     "data": {
      "text/plain": [
       "{'rodas_acionadas': 'RWD',\n",
       " 'suspensao_traseira': 'Duplo A',\n",
       " 'engrenagens': 5,\n",
       " 'cilindaradas_unitaria': '289 cm³',\n",
       " 'diamentro_x_curso': '77 x 62 mm',\n",
       " 'diamentro-curso': '1,24:1',\n",
       " 'PME': '11,2 Bar',\n",
       " 'potencia_especifica': '78 cv/L'}"
      ]
     },
     "execution_count": 30,
     "metadata": {},
     "output_type": "execute_result"
    }
   ],
   "source": [
    "carro_01.get('trasao_chassi')"
   ]
  },
  {
   "cell_type": "code",
   "execution_count": 31,
   "metadata": {},
   "outputs": [
    {
     "data": {
      "text/plain": [
       "'11,2 Bar'"
      ]
     },
     "execution_count": 31,
     "metadata": {},
     "output_type": "execute_result"
    }
   ],
   "source": [
    "carro_01['trasao_chassi']['PME']"
   ]
  }
 ],
 "metadata": {
  "kernelspec": {
   "display_name": "Python 3",
   "language": "python",
   "name": "python3"
  },
  "language_info": {
   "codemirror_mode": {
    "name": "ipython",
    "version": 3
   },
   "file_extension": ".py",
   "mimetype": "text/x-python",
   "name": "python",
   "nbconvert_exporter": "python",
   "pygments_lexer": "ipython3",
   "version": "3.12.1"
  }
 },
 "nbformat": 4,
 "nbformat_minor": 2
}
