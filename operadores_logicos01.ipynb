{
 "cells": [
  {
   "cell_type": "code",
   "execution_count": 29,
   "metadata": {},
   "outputs": [
    {
     "name": "stdout",
     "output_type": "stream",
     "text": [
      "Dados corretos!\n"
     ]
    }
   ],
   "source": [
    "nome = 'Ian'\n",
    "idade = 24\n",
    "peso = 60\n",
    "\n",
    "if (nome == 'Ian' or idade == 25) and peso == 60:\n",
    "    print('Dados corretos!')\n",
    "else:\n",
    "    print('Dados incorretos!')"
   ]
  },
  {
   "cell_type": "code",
   "execution_count": 34,
   "metadata": {},
   "outputs": [
    {
     "name": "stdout",
     "output_type": "stream",
     "text": [
      "Você pode votar esse ano.\n"
     ]
    }
   ],
   "source": [
    "data_nascimento = 4059\n",
    "ano = 2024\n",
    "\n",
    "if(ano - data_nascimento >= 18):\n",
    "    print('Você pode votar esse ano.')\n",
    "else:\n",
    "    ('Infelizmente você não pode votar esse ano.')"
   ]
  },
  {
   "cell_type": "code",
   "execution_count": 14,
   "metadata": {},
   "outputs": [
    {
     "name": "stdout",
     "output_type": "stream",
     "text": [
      "Valor da compra R$: 3.75\n"
     ]
    }
   ],
   "source": [
    "qtd_carrinho = 15\n",
    "\n",
    "if(carrinho >= 12):\n",
    "    preco_maca = 0.25\n",
    "else:\n",
    "    preco_maca = 0.30\n",
    "\n",
    "msg = 'Valor da compra R$: '\n",
    "total = qtd_carrinho * preco_maca\n",
    "\n",
    "print(msg + str(total))"
   ]
  },
  {
   "cell_type": "code",
   "execution_count": 30,
   "metadata": {},
   "outputs": [
    {
     "name": "stdout",
     "output_type": "stream",
     "text": [
      "Peso ideal: 68kg\n"
     ]
    }
   ],
   "source": [
    "masculino = 1\n",
    "feminino = 2\n",
    "\n",
    "sexo = masculino\n",
    "altura = 1.75\n",
    "\n",
    "if (sexo == 1):\n",
    "    formula = 72.2 * altura - 58\n",
    "else:\n",
    "    formula = 62.1 * altura - 44.7\n",
    "\n",
    "valor_total = int(formula)\n",
    "msg = 'Peso ideal: '\n",
    "\n",
    "print(msg + str(valor_total) + 'kg')\n",
    "\n"
   ]
  }
 ],
 "metadata": {
  "kernelspec": {
   "display_name": "Python 3",
   "language": "python",
   "name": "python3"
  },
  "language_info": {
   "codemirror_mode": {
    "name": "ipython",
    "version": 3
   },
   "file_extension": ".py",
   "mimetype": "text/x-python",
   "name": "python",
   "nbconvert_exporter": "python",
   "pygments_lexer": "ipython3",
   "version": "3.12.1"
  }
 },
 "nbformat": 4,
 "nbformat_minor": 2
}
